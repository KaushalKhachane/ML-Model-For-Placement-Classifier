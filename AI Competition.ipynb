{
 "cells": [
  {
   "cell_type": "code",
   "execution_count": 1,
   "id": "a233fd48",
   "metadata": {},
   "outputs": [],
   "source": [
    "import numpy as np\n",
    "import pandas as pd\n",
    "import seaborn as sns\n",
    "from matplotlib import pyplot as plt\n",
    "from sklearn.neighbors import KNeighborsClassifier\n",
    "from sklearn.tree import DecisionTreeClassifier\n",
    "from sklearn.metrics import accuracy_score\n",
    "%matplotlib inline\n",
    "from sklearn.metrics import accuracy_score, confusion_matrix, classification_report\n",
    "from sklearn.model_selection import train_test_split\n",
    "from sklearn.svm import SVC\n",
    "from sklearn.metrics import precision_score, recall_score, f1_score"
   ]
  },
  {
   "cell_type": "code",
   "execution_count": 2,
   "id": "382b7336",
   "metadata": {},
   "outputs": [],
   "source": [
    "# Train.csv file EDA"
   ]
  },
  {
   "cell_type": "code",
   "execution_count": 3,
   "id": "6f13a1ea",
   "metadata": {
    "scrolled": false
   },
   "outputs": [
    {
     "name": "stdout",
     "output_type": "stream",
     "text": [
      "Train.csv file Structure: \n",
      "<class 'pandas.core.frame.DataFrame'>\n",
      "RangeIndex: 253 entries, 0 to 252\n",
      "Data columns (total 6 columns):\n",
      " #   Column     Non-Null Count  Dtype  \n",
      "---  ------     --------------  -----  \n",
      " 0   Name       253 non-null    object \n",
      " 1   10th       135 non-null    float64\n",
      " 2   12th       113 non-null    float64\n",
      " 3   College    135 non-null    float64\n",
      " 4   Amcat      135 non-null    float64\n",
      " 5   Placement  253 non-null    int64  \n",
      "dtypes: float64(4), int64(1), object(1)\n",
      "memory usage: 12.0+ KB\n",
      "Original Data\n",
      "\n",
      "                          Name  10th   12th  College  Amcat  Placement\n",
      "0          MOHITE AARTI RAMESH  92.0  82.00     9.50   87.0          1\n",
      "1    WALUNJKAR SIDDHI SHAHURAO   NaN    NaN      NaN    NaN          1\n",
      "2       KABADI KAIVALYA SUDHIR  92.0  86.00     9.00   51.0          1\n",
      "3          MULLA MOIN ADILSHAH  91.0  84.00     9.80   64.0          1\n",
      "4      BHAPKAR SHRUTI MOHANRAO  84.5    NaN     9.41    0.0          1\n",
      "..                         ...   ...    ...      ...    ...        ...\n",
      "248        KOLHE MANDAR SANJAY  92.8  74.92     8.90    0.0          0\n",
      "249      PORWAL SIDDHANT KUMAR   NaN    NaN      NaN    NaN          0\n",
      "250    BOLSHETTE OMKAR SHEKHAR   NaN    NaN      NaN    NaN          0\n",
      "251     KULKARNI NIDHI SANTOSH  95.0  90.00     9.04    7.0          0\n",
      "252   BHAVSAR DHARA KAMALNAYAN   NaN    NaN      NaN    NaN          0\n",
      "\n",
      "[253 rows x 6 columns]\n"
     ]
    }
   ],
   "source": [
    "train_df = pd.read_csv(r\"D:\\VIIT\\SEM 5\\SCE\\AI\\placement-classifier\\train.csv\")\n",
    "\n",
    "print(\"Train.csv file Structure: \")\n",
    "train_df.info()\n",
    "print(\"Original Data\\n\")\n",
    "print(train_df)"
   ]
  },
  {
   "cell_type": "code",
   "execution_count": 4,
   "id": "da86eef5",
   "metadata": {},
   "outputs": [
    {
     "data": {
      "text/html": [
       "<div>\n",
       "<style scoped>\n",
       "    .dataframe tbody tr th:only-of-type {\n",
       "        vertical-align: middle;\n",
       "    }\n",
       "\n",
       "    .dataframe tbody tr th {\n",
       "        vertical-align: top;\n",
       "    }\n",
       "\n",
       "    .dataframe thead th {\n",
       "        text-align: right;\n",
       "    }\n",
       "</style>\n",
       "<table border=\"1\" class=\"dataframe\">\n",
       "  <thead>\n",
       "    <tr style=\"text-align: right;\">\n",
       "      <th></th>\n",
       "      <th>Name</th>\n",
       "      <th>10th</th>\n",
       "      <th>12th</th>\n",
       "      <th>College</th>\n",
       "      <th>Amcat</th>\n",
       "      <th>Placement</th>\n",
       "    </tr>\n",
       "  </thead>\n",
       "  <tbody>\n",
       "    <tr>\n",
       "      <th>0</th>\n",
       "      <td>MOHITE AARTI RAMESH</td>\n",
       "      <td>92.0</td>\n",
       "      <td>82.0</td>\n",
       "      <td>9.50</td>\n",
       "      <td>87.0</td>\n",
       "      <td>1</td>\n",
       "    </tr>\n",
       "    <tr>\n",
       "      <th>1</th>\n",
       "      <td>WALUNJKAR SIDDHI SHAHURAO</td>\n",
       "      <td>NaN</td>\n",
       "      <td>NaN</td>\n",
       "      <td>NaN</td>\n",
       "      <td>NaN</td>\n",
       "      <td>1</td>\n",
       "    </tr>\n",
       "    <tr>\n",
       "      <th>2</th>\n",
       "      <td>KABADI KAIVALYA SUDHIR</td>\n",
       "      <td>92.0</td>\n",
       "      <td>86.0</td>\n",
       "      <td>9.00</td>\n",
       "      <td>51.0</td>\n",
       "      <td>1</td>\n",
       "    </tr>\n",
       "    <tr>\n",
       "      <th>3</th>\n",
       "      <td>MULLA MOIN ADILSHAH</td>\n",
       "      <td>91.0</td>\n",
       "      <td>84.0</td>\n",
       "      <td>9.80</td>\n",
       "      <td>64.0</td>\n",
       "      <td>1</td>\n",
       "    </tr>\n",
       "    <tr>\n",
       "      <th>4</th>\n",
       "      <td>BHAPKAR SHRUTI MOHANRAO</td>\n",
       "      <td>84.5</td>\n",
       "      <td>NaN</td>\n",
       "      <td>9.41</td>\n",
       "      <td>0.0</td>\n",
       "      <td>1</td>\n",
       "    </tr>\n",
       "  </tbody>\n",
       "</table>\n",
       "</div>"
      ],
      "text/plain": [
       "                        Name  10th  12th  College  Amcat  Placement\n",
       "0        MOHITE AARTI RAMESH  92.0  82.0     9.50   87.0          1\n",
       "1  WALUNJKAR SIDDHI SHAHURAO   NaN   NaN      NaN    NaN          1\n",
       "2     KABADI KAIVALYA SUDHIR  92.0  86.0     9.00   51.0          1\n",
       "3        MULLA MOIN ADILSHAH  91.0  84.0     9.80   64.0          1\n",
       "4    BHAPKAR SHRUTI MOHANRAO  84.5   NaN     9.41    0.0          1"
      ]
     },
     "execution_count": 4,
     "metadata": {},
     "output_type": "execute_result"
    }
   ],
   "source": [
    "train_df.head()"
   ]
  },
  {
   "cell_type": "code",
   "execution_count": 5,
   "id": "bd8ffbe9",
   "metadata": {},
   "outputs": [
    {
     "name": "stdout",
     "output_type": "stream",
     "text": [
      "Missing Values: \n",
      " Name           0\n",
      "10th         118\n",
      "12th         140\n",
      "College      118\n",
      "Amcat        118\n",
      "Placement      0\n",
      "dtype: int64\n"
     ]
    }
   ],
   "source": [
    "# Check missing values in the train data\n",
    "missing_counts_train = train_df.isnull().sum()\n",
    "print(\"Missing Values: \\n\",missing_counts_train)"
   ]
  },
  {
   "cell_type": "code",
   "execution_count": 6,
   "id": "55ce1d49",
   "metadata": {},
   "outputs": [
    {
     "name": "stdout",
     "output_type": "stream",
     "text": [
      "Updated Missing Value Count for 10th% Column: 0\n"
     ]
    }
   ],
   "source": [
    "# we filled 10th column null values with median of 10th column\n",
    "train_df['10th'].fillna(train_df['10th'].median(), inplace=True)\n",
    "print(\"Updated Missing Value Count for 10th% Column:\", train_df['10th'].isnull().sum())\n"
   ]
  },
  {
   "cell_type": "code",
   "execution_count": 7,
   "id": "17900654",
   "metadata": {},
   "outputs": [
    {
     "name": "stdout",
     "output_type": "stream",
     "text": [
      "Updated Missing Value Count for 12th% Column: 0\n"
     ]
    }
   ],
   "source": [
    "# we filled 12th column null values with median of 12th column\n",
    "train_df['12th'].fillna(train_df['12th'].median(), inplace=True)\n",
    "print(\"Updated Missing Value Count for 12th% Column:\", train_df['12th'].isnull().sum())"
   ]
  },
  {
   "cell_type": "code",
   "execution_count": 8,
   "id": "7e214353",
   "metadata": {},
   "outputs": [
    {
     "name": "stdout",
     "output_type": "stream",
     "text": [
      "No. of rows having CGPA greater than 10: 8\n"
     ]
    }
   ],
   "source": [
    "# some rows in college column has cgpa greater than 10  \n",
    "temp = train_df[train_df['College']>10]\n",
    "print(\"No. of rows having CGPA greater than 10:\", len(temp))"
   ]
  },
  {
   "cell_type": "code",
   "execution_count": 9,
   "id": "6dc397ce",
   "metadata": {},
   "outputs": [],
   "source": [
    "# divide it by 10\n",
    "train_df.loc[train_df['College'] > 10, 'College'] = train_df.loc[train_df['College'] > 10, 'College'] / 10"
   ]
  },
  {
   "cell_type": "code",
   "execution_count": 10,
   "id": "c801768c",
   "metadata": {},
   "outputs": [
    {
     "name": "stdout",
     "output_type": "stream",
     "text": [
      "Updated of rows having value greater than 10 in College Column 0\n"
     ]
    }
   ],
   "source": [
    "temp = train_df[train_df['College']>10]\n",
    "print(\"Updated of rows having value greater than 10 in College Column\", len(temp))\n",
    "# temp"
   ]
  },
  {
   "cell_type": "code",
   "execution_count": 11,
   "id": "f9983843",
   "metadata": {},
   "outputs": [
    {
     "name": "stdout",
     "output_type": "stream",
     "text": [
      "Number of Missing Value in College Column:  118\n"
     ]
    }
   ],
   "source": [
    "print(\"Number of Missing Value in College Column: \", train_df[\"College\"].isnull().sum())"
   ]
  },
  {
   "cell_type": "code",
   "execution_count": 12,
   "id": "5b04e6c4",
   "metadata": {},
   "outputs": [
    {
     "name": "stdout",
     "output_type": "stream",
     "text": [
      "Updated Missing Value Count for College Column: 0\n"
     ]
    }
   ],
   "source": [
    "train_df['College'].fillna(train_df[\"College\"].median(), inplace=True)\n",
    "print(\"Updated Missing Value Count for College Column:\", train_df[\"College\"].isnull().sum())"
   ]
  },
  {
   "cell_type": "code",
   "execution_count": 13,
   "id": "d9dc6471",
   "metadata": {},
   "outputs": [
    {
     "name": "stdout",
     "output_type": "stream",
     "text": [
      "Updated Missing Value count for Amcat Column: 0\n"
     ]
    }
   ],
   "source": [
    "train_df['Amcat'].fillna(train_df[\"Amcat\"].median(), inplace=True)\n",
    "print(\"Updated Missing Value count for Amcat Column:\", train_df[\"Amcat\"].isnull().sum())"
   ]
  },
  {
   "cell_type": "code",
   "execution_count": 14,
   "id": "5a98f869",
   "metadata": {},
   "outputs": [
    {
     "name": "stdout",
     "output_type": "stream",
     "text": [
      "Missing Values: \n",
      " Name         0\n",
      "10th         0\n",
      "12th         0\n",
      "College      0\n",
      "Amcat        0\n",
      "Placement    0\n",
      "dtype: int64\n"
     ]
    }
   ],
   "source": [
    "# Check missing values in the train data\n",
    "missing_counts_train = train_df.isnull().sum()\n",
    "print(\"Missing Values: \\n\",missing_counts_train)"
   ]
  },
  {
   "cell_type": "markdown",
   "id": "7aec09ee",
   "metadata": {},
   "source": [
    "# Test.csv file EDA"
   ]
  },
  {
   "cell_type": "code",
   "execution_count": 15,
   "id": "9e242972",
   "metadata": {},
   "outputs": [
    {
     "name": "stdout",
     "output_type": "stream",
     "text": [
      "Test.csv file Structure: \n",
      "<class 'pandas.core.frame.DataFrame'>\n",
      "RangeIndex: 73 entries, 0 to 72\n",
      "Data columns (total 6 columns):\n",
      " #   Column   Non-Null Count  Dtype  \n",
      "---  ------   --------------  -----  \n",
      " 0   Studid   73 non-null     int64  \n",
      " 1   Name     73 non-null     object \n",
      " 2   10th     44 non-null     float64\n",
      " 3   12th     39 non-null     float64\n",
      " 4   College  44 non-null     float64\n",
      " 5   Amcat    44 non-null     float64\n",
      "dtypes: float64(4), int64(1), object(1)\n",
      "memory usage: 3.6+ KB\n",
      " Orifinal Data\n",
      "    Studid                       Name  10th   12th  College  Amcat\n",
      "0        1     BHALERAO KAJAL SHANKAR  72.4    NaN    88.00    7.0\n",
      "1        2    BHATEWARA JINESH JAYANT   NaN    NaN      NaN    NaN\n",
      "2        3      KANSAGARA JEET ASHWIN   NaN    NaN      NaN    NaN\n",
      "3        4    DESHPANDE ISHAN SHIRISH   NaN    NaN      NaN    NaN\n",
      "4        5  BHANUSHALI HARSHIT DHIRAJ  90.0  82.46     9.40   94.0\n",
      "..     ...                        ...   ...    ...      ...    ...\n",
      "68      69        KOLHE MANDAR SANJAY  92.8  74.92     8.90    0.0\n",
      "69      70      PORWAL SIDDHANT KUMAR   NaN    NaN      NaN    NaN\n",
      "70      71    BOLSHETTE OMKAR SHEKHAR   NaN    NaN      NaN    NaN\n",
      "71      72     KULKARNI NIDHI SANTOSH  95.0  90.00     9.04    7.0\n",
      "72      73   BHAVSAR DHARA KAMALNAYAN   NaN    NaN      NaN    NaN\n",
      "\n",
      "[73 rows x 6 columns]\n"
     ]
    }
   ],
   "source": [
    "import pandas as pd\n",
    "\n",
    "# Read the test csv file\n",
    "test_df = pd.read_csv(r\"D:\\VIIT\\SEM 5\\SCE\\AI\\placement-classifier\\test.csv\")\n",
    "\n",
    "print(\"Test.csv file Structure: \")\n",
    "test_df.info()\n",
    "print(\" Orifinal Data\")\n",
    "print(test_df)"
   ]
  },
  {
   "cell_type": "code",
   "execution_count": 16,
   "id": "7d50c32f",
   "metadata": {},
   "outputs": [
    {
     "data": {
      "text/html": [
       "<div>\n",
       "<style scoped>\n",
       "    .dataframe tbody tr th:only-of-type {\n",
       "        vertical-align: middle;\n",
       "    }\n",
       "\n",
       "    .dataframe tbody tr th {\n",
       "        vertical-align: top;\n",
       "    }\n",
       "\n",
       "    .dataframe thead th {\n",
       "        text-align: right;\n",
       "    }\n",
       "</style>\n",
       "<table border=\"1\" class=\"dataframe\">\n",
       "  <thead>\n",
       "    <tr style=\"text-align: right;\">\n",
       "      <th></th>\n",
       "      <th>Studid</th>\n",
       "      <th>Name</th>\n",
       "      <th>10th</th>\n",
       "      <th>12th</th>\n",
       "      <th>College</th>\n",
       "      <th>Amcat</th>\n",
       "    </tr>\n",
       "  </thead>\n",
       "  <tbody>\n",
       "    <tr>\n",
       "      <th>0</th>\n",
       "      <td>1</td>\n",
       "      <td>BHALERAO KAJAL SHANKAR</td>\n",
       "      <td>72.4</td>\n",
       "      <td>NaN</td>\n",
       "      <td>88.0</td>\n",
       "      <td>7.0</td>\n",
       "    </tr>\n",
       "    <tr>\n",
       "      <th>1</th>\n",
       "      <td>2</td>\n",
       "      <td>BHATEWARA JINESH JAYANT</td>\n",
       "      <td>NaN</td>\n",
       "      <td>NaN</td>\n",
       "      <td>NaN</td>\n",
       "      <td>NaN</td>\n",
       "    </tr>\n",
       "    <tr>\n",
       "      <th>2</th>\n",
       "      <td>3</td>\n",
       "      <td>KANSAGARA JEET ASHWIN</td>\n",
       "      <td>NaN</td>\n",
       "      <td>NaN</td>\n",
       "      <td>NaN</td>\n",
       "      <td>NaN</td>\n",
       "    </tr>\n",
       "    <tr>\n",
       "      <th>3</th>\n",
       "      <td>4</td>\n",
       "      <td>DESHPANDE ISHAN SHIRISH</td>\n",
       "      <td>NaN</td>\n",
       "      <td>NaN</td>\n",
       "      <td>NaN</td>\n",
       "      <td>NaN</td>\n",
       "    </tr>\n",
       "    <tr>\n",
       "      <th>4</th>\n",
       "      <td>5</td>\n",
       "      <td>BHANUSHALI HARSHIT DHIRAJ</td>\n",
       "      <td>90.0</td>\n",
       "      <td>82.46</td>\n",
       "      <td>9.4</td>\n",
       "      <td>94.0</td>\n",
       "    </tr>\n",
       "  </tbody>\n",
       "</table>\n",
       "</div>"
      ],
      "text/plain": [
       "   Studid                       Name  10th   12th  College  Amcat\n",
       "0       1     BHALERAO KAJAL SHANKAR  72.4    NaN     88.0    7.0\n",
       "1       2    BHATEWARA JINESH JAYANT   NaN    NaN      NaN    NaN\n",
       "2       3      KANSAGARA JEET ASHWIN   NaN    NaN      NaN    NaN\n",
       "3       4    DESHPANDE ISHAN SHIRISH   NaN    NaN      NaN    NaN\n",
       "4       5  BHANUSHALI HARSHIT DHIRAJ  90.0  82.46      9.4   94.0"
      ]
     },
     "execution_count": 16,
     "metadata": {},
     "output_type": "execute_result"
    }
   ],
   "source": [
    "test_df.head()"
   ]
  },
  {
   "cell_type": "code",
   "execution_count": 17,
   "id": "cadab313",
   "metadata": {},
   "outputs": [
    {
     "name": "stdout",
     "output_type": "stream",
     "text": [
      "Missing Value:\n",
      "Studid      0\n",
      "Name        0\n",
      "10th       29\n",
      "12th       34\n",
      "College    29\n",
      "Amcat      29\n",
      "dtype: int64\n"
     ]
    }
   ],
   "source": [
    "# Check missing values in the test data\n",
    "missing_counts_test = test_df.isnull().sum()\n",
    "print(\"Missing Value:\")\n",
    "print(missing_counts_test)"
   ]
  },
  {
   "cell_type": "code",
   "execution_count": 18,
   "id": "c1bcb554",
   "metadata": {},
   "outputs": [
    {
     "name": "stdout",
     "output_type": "stream",
     "text": [
      "Updated Missing Value Count for 10th% column: 0\n"
     ]
    }
   ],
   "source": [
    "# we filled 10th column null values with median of 10th column\n",
    "test_df['10th'].fillna(test_df['10th'].median(), inplace=True)\n",
    "print(\"Updated Missing Value Count for 10th% column:\", test_df['10th'].isnull().sum())"
   ]
  },
  {
   "cell_type": "code",
   "execution_count": 19,
   "id": "ec80bd4a",
   "metadata": {},
   "outputs": [
    {
     "name": "stdout",
     "output_type": "stream",
     "text": [
      "Updated Missing Value Count for 12th% College: 0\n"
     ]
    }
   ],
   "source": [
    "# we filled 12th column null values with median of 12th column\n",
    "test_df['12th'].fillna(test_df['12th'].median(), inplace=True)\n",
    "print(\"Updated Missing Value Count for 12th% College:\", test_df['12th'].isnull().sum())"
   ]
  },
  {
   "cell_type": "code",
   "execution_count": 20,
   "id": "0c288e4c",
   "metadata": {},
   "outputs": [
    {
     "name": "stdout",
     "output_type": "stream",
     "text": [
      "No. of rows having Value Greatet than 10 in College Column: 3\n"
     ]
    }
   ],
   "source": [
    "# some rows in college column has cgpa greater than 10  \n",
    "temp1 = test_df[test_df['College']>10]\n",
    "print(\"No. of rows having Value Greatet than 10 in College Column:\", len(temp1))"
   ]
  },
  {
   "cell_type": "code",
   "execution_count": 21,
   "id": "01459c22",
   "metadata": {},
   "outputs": [],
   "source": [
    "# divide it by 10\n",
    "test_df.loc[test_df['College'] > 10, 'College'] = test_df.loc[test_df['College'] > 10, 'College'] / 10"
   ]
  },
  {
   "cell_type": "code",
   "execution_count": 22,
   "id": "cdc76c6b",
   "metadata": {},
   "outputs": [
    {
     "name": "stdout",
     "output_type": "stream",
     "text": [
      "Number of rows having value greatet than 10 in College Column: 0\n"
     ]
    }
   ],
   "source": [
    "test_df['College'].fillna(test_df[\"College\"].median(), inplace=True)\n",
    "print(\"Number of rows having value greatet than 10 in College Column:\",test_df[\"College\"].isnull().sum())"
   ]
  },
  {
   "cell_type": "code",
   "execution_count": 23,
   "id": "13d7807c",
   "metadata": {},
   "outputs": [
    {
     "name": "stdout",
     "output_type": "stream",
     "text": [
      "Updated Rows Having value greater than 10 in College Column: 0\n"
     ]
    },
    {
     "name": "stderr",
     "output_type": "stream",
     "text": [
      "C:\\Users\\khach\\AppData\\Local\\Temp\\ipykernel_9348\\2468237991.py:1: UserWarning: Boolean Series key will be reindexed to match DataFrame index.\n",
      "  temp1 = test_df[train_df['College']>10]\n"
     ]
    }
   ],
   "source": [
    "temp1 = test_df[train_df['College']>10]\n",
    "print(\"Updated Rows Having value greater than 10 in College Column:\", len(temp1))\n",
    "# temp1"
   ]
  },
  {
   "cell_type": "code",
   "execution_count": 24,
   "id": "3cc76803",
   "metadata": {},
   "outputs": [
    {
     "name": "stdout",
     "output_type": "stream",
     "text": [
      "Missing Value in Amcat Column: 0\n"
     ]
    }
   ],
   "source": [
    "test_df['Amcat'].fillna(test_df[\"Amcat\"].median(), inplace=True)\n",
    "print(\"Missing Value in Amcat Column:\", test_df[\"Amcat\"].isnull().sum())"
   ]
  },
  {
   "cell_type": "code",
   "execution_count": 25,
   "id": "d4a663e7",
   "metadata": {},
   "outputs": [
    {
     "name": "stdout",
     "output_type": "stream",
     "text": [
      "Missing Value: \n",
      "Studid     0\n",
      "Name       0\n",
      "10th       0\n",
      "12th       0\n",
      "College    0\n",
      "Amcat      0\n",
      "dtype: int64\n"
     ]
    }
   ],
   "source": [
    "# Check missing values in the test data\n",
    "missing_counts_test = test_df.isnull().sum()\n",
    "print(\"Missing Value: \")\n",
    "print(missing_counts_test)"
   ]
  },
  {
   "cell_type": "markdown",
   "id": "8d069453",
   "metadata": {},
   "source": [
    "# Visualization"
   ]
  },
  {
   "cell_type": "code",
   "execution_count": 26,
   "id": "ba3d397f",
   "metadata": {
    "scrolled": false
   },
   "outputs": [
    {
     "data": {
      "image/png": "[encoded data removed]",
      "text/plain": [
       "<Figure size 640x480 with 1 Axes>"
      ]
     },
     "metadata": {},
     "output_type": "display_data"
    }
   ],
   "source": [
    "sns.countplot(x='Placement', data=train_df, palette='Set2')\n",
    "plt.title('Placement Distribution')\n",
    "plt.show()"
   ]
  },
  {
   "cell_type": "code",
   "execution_count": 27,
   "id": "81efb8c1",
   "metadata": {},
   "outputs": [
    {
     "name": "stdout",
     "output_type": "stream",
     "text": [
      "Placed and Not-Placed Student:\n",
      "1    195\n",
      "0     58\n",
      "Name: Placement, dtype: int64\n"
     ]
    }
   ],
   "source": [
    "print(\"Placed and Not-Placed Student:\")\n",
    "print(train_df[\"Placement\"].value_counts())"
   ]
  },
  {
   "cell_type": "code",
   "execution_count": 28,
   "id": "603c0507",
   "metadata": {
    "scrolled": false
   },
   "outputs": [
    {
     "data": {
      "image/png": "[encoded data removed]",
      "text/plain": [
       "<Figure size 800x800 with 1 Axes>"
      ]
     },
     "metadata": {},
     "output_type": "display_data"
    }
   ],
   "source": [
    "plt.figure(figsize=(8, 8))\n",
    "plt.pie(train_df['Placement'].value_counts(), labels=train_df['Placement'].value_counts().index, autopct='%1.1f%%', startangle=90, colors=['lightcoral', 'lightgreen'])\n",
    "plt.title('Placement Distribution (Pie Chart)')\n",
    "plt.show()"
   ]
  },
  {
   "cell_type": "code",
   "execution_count": 31,
   "id": "549f7d0f",
   "metadata": {
    "scrolled": false
   },
   "outputs": [
    {
     "name": "stderr",
     "output_type": "stream",
     "text": [
      "C:\\Users\\khach\\AppData\\Local\\Temp\\ipykernel_9348\\2162986405.py:2: FutureWarning: The default value of numeric_only in DataFrame.corr is deprecated. In a future version, it will default to False. Select only valid columns or specify the value of numeric_only to silence this warning.\n",
      "  correlation_matrix = train_df.corr()\n"
     ]
    },
    {
     "data": {
      "image/png": "[encoded data removed]",
      "text/plain": [
       "<Figure size 640x480 with 2 Axes>"
      ]
     },
     "metadata": {},
     "output_type": "display_data"
    }
   ],
   "source": [
    "# Correlation matrix\n",
    "correlation_matrix = train_df.corr()\n",
    "sns.heatmap(correlation_matrix, annot=True, cmap='coolwarm', fmt=\".2f\")\n",
    "plt.title('Correlation Matrix')\n",
    "plt.show()"
   ]
  },
  {
   "cell_type": "code",
   "execution_count": 32,
   "id": "980fb865",
   "metadata": {
    "scrolled": false
   },
   "outputs": [
    {
     "data": {
      "image/png": "[encoded data removed]",
      "text/plain": [
       "<Figure size 640x480 with 1 Axes>"
      ]
     },
     "metadata": {},
     "output_type": "display_data"
    }
   ],
   "source": [
    "# Scatter plot for binary classification (using '10th' and '12th' columns as an example)\n",
    "plt.scatter(train_df[train_df['Placement'] == 0]['10th'], train_df[train_df['Placement'] == 0]['12th'], label='Not Placed', marker='o', color='red')\n",
    "plt.scatter(train_df[train_df['Placement'] == 1]['10th'], train_df[train_df['Placement'] == 1]['12th'], label='Placed', marker='s', color='blue')\n",
    "\n",
    "# Add labels and title\n",
    "plt.xlabel('10th Percentage')\n",
    "plt.ylabel('12th Percentage')\n",
    "plt.title('Scatter Plot for Binary Classification')\n",
    "plt.legend()  # Show legend\n",
    "\n",
    "# Show the plot\n",
    "plt.show()"
   ]
  },
  {
   "cell_type": "code",
   "execution_count": 33,
   "id": "505679a4",
   "metadata": {
    "scrolled": false
   },
   "outputs": [
    {
     "data": {
      "image/png": "[encoded data removed]",
      "text/plain": [
       "<Figure size 640x480 with 1 Axes>"
      ]
     },
     "metadata": {},
     "output_type": "display_data"
    }
   ],
   "source": [
    "# Scatter plot for binary classification (using '10th' and '12th' columns as an example)\n",
    "plt.scatter(train_df[train_df['Placement'] == 0]['College'], train_df[train_df['Placement'] == 0]['Amcat'], label='Not Placed', marker='o', color='red')\n",
    "plt.scatter(train_df[train_df['Placement'] == 1]['College'], train_df[train_df['Placement'] == 1]['Amcat'], label='Placed', marker='s', color='blue')\n",
    "\n",
    "# Add labels and title\n",
    "plt.xlabel('College CGPA')\n",
    "plt.ylabel('Amcat Score')\n",
    "plt.title('Scatter Plot for Binary Classification')\n",
    "plt.legend()  # Show legend\n",
    "\n",
    "# Show the plot\n",
    "plt.show()"
   ]
  },
  {
   "cell_type": "markdown",
   "id": "96ec27ec",
   "metadata": {},
   "source": [
    "# Model Building and Testing"
   ]
  },
  {
   "cell_type": "code",
   "execution_count": 34,
   "id": "b73d0d39",
   "metadata": {},
   "outputs": [],
   "source": [
    "test_features = ['10th', '12th', 'College', 'Amcat']"
   ]
  },
  {
   "cell_type": "markdown",
   "id": "90e2c7da",
   "metadata": {},
   "source": [
    "# Solution.csv for y test"
   ]
  },
  {
   "cell_type": "code",
   "execution_count": 35,
   "id": "68c6834c",
   "metadata": {},
   "outputs": [],
   "source": [
    "solution_df = pd.read_csv(r\"D:\\VIIT\\SEM 5\\SCE\\AI\\placement-classifier\\solution.csv\")"
   ]
  },
  {
   "cell_type": "code",
   "execution_count": 36,
   "id": "9a785487",
   "metadata": {},
   "outputs": [],
   "source": [
    "# Assuming 'Placement' is the target column\n",
    "y_test = solution_df['Placement']"
   ]
  },
  {
   "cell_type": "code",
   "execution_count": 37,
   "id": "056e7439",
   "metadata": {},
   "outputs": [],
   "source": [
    "import pandas as pd\n",
    "from sklearn.model_selection import train_test_split\n",
    "from sklearn.linear_model import LogisticRegression"
   ]
  },
  {
   "cell_type": "code",
   "execution_count": 38,
   "id": "9f7dbc5f",
   "metadata": {},
   "outputs": [],
   "source": [
    "#Feature Selection\n",
    "features = ['10th', '12th', 'College', 'Amcat']"
   ]
  },
  {
   "cell_type": "code",
   "execution_count": 39,
   "id": "62e79c03",
   "metadata": {},
   "outputs": [
    {
     "data": {
      "text/plain": [
       "Name         0\n",
       "10th         0\n",
       "12th         0\n",
       "College      0\n",
       "Amcat        0\n",
       "Placement    0\n",
       "dtype: int64"
      ]
     },
     "execution_count": 39,
     "metadata": {},
     "output_type": "execute_result"
    }
   ],
   "source": [
    "train_df.isnull().sum()"
   ]
  },
  {
   "cell_type": "code",
   "execution_count": 40,
   "id": "05f7a12f",
   "metadata": {},
   "outputs": [],
   "source": [
    "#select features for training\n",
    "X_train = train_df[features]\n",
    "y_train = train_df['Placement']"
   ]
  },
  {
   "cell_type": "code",
   "execution_count": 41,
   "id": "f1f34f41",
   "metadata": {},
   "outputs": [],
   "source": [
    "X_test = test_df[test_features]"
   ]
  },
  {
   "cell_type": "code",
   "execution_count": 42,
   "id": "e6f0f18d",
   "metadata": {
    "scrolled": true
   },
   "outputs": [
    {
     "data": {
      "text/html": [
       "<div>\n",
       "<style scoped>\n",
       "    .dataframe tbody tr th:only-of-type {\n",
       "        vertical-align: middle;\n",
       "    }\n",
       "\n",
       "    .dataframe tbody tr th {\n",
       "        vertical-align: top;\n",
       "    }\n",
       "\n",
       "    .dataframe thead th {\n",
       "        text-align: right;\n",
       "    }\n",
       "</style>\n",
       "<table border=\"1\" class=\"dataframe\">\n",
       "  <thead>\n",
       "    <tr style=\"text-align: right;\">\n",
       "      <th></th>\n",
       "      <th>10th</th>\n",
       "      <th>12th</th>\n",
       "      <th>College</th>\n",
       "      <th>Amcat</th>\n",
       "    </tr>\n",
       "  </thead>\n",
       "  <tbody>\n",
       "    <tr>\n",
       "      <th>0</th>\n",
       "      <td>92.0</td>\n",
       "      <td>82.00</td>\n",
       "      <td>9.50</td>\n",
       "      <td>87.0</td>\n",
       "    </tr>\n",
       "    <tr>\n",
       "      <th>1</th>\n",
       "      <td>91.3</td>\n",
       "      <td>82.00</td>\n",
       "      <td>9.00</td>\n",
       "      <td>39.0</td>\n",
       "    </tr>\n",
       "    <tr>\n",
       "      <th>2</th>\n",
       "      <td>92.0</td>\n",
       "      <td>86.00</td>\n",
       "      <td>9.00</td>\n",
       "      <td>51.0</td>\n",
       "    </tr>\n",
       "    <tr>\n",
       "      <th>3</th>\n",
       "      <td>91.0</td>\n",
       "      <td>84.00</td>\n",
       "      <td>9.80</td>\n",
       "      <td>64.0</td>\n",
       "    </tr>\n",
       "    <tr>\n",
       "      <th>4</th>\n",
       "      <td>84.5</td>\n",
       "      <td>82.00</td>\n",
       "      <td>9.41</td>\n",
       "      <td>0.0</td>\n",
       "    </tr>\n",
       "    <tr>\n",
       "      <th>...</th>\n",
       "      <td>...</td>\n",
       "      <td>...</td>\n",
       "      <td>...</td>\n",
       "      <td>...</td>\n",
       "    </tr>\n",
       "    <tr>\n",
       "      <th>248</th>\n",
       "      <td>92.8</td>\n",
       "      <td>74.92</td>\n",
       "      <td>8.90</td>\n",
       "      <td>0.0</td>\n",
       "    </tr>\n",
       "    <tr>\n",
       "      <th>249</th>\n",
       "      <td>91.3</td>\n",
       "      <td>82.00</td>\n",
       "      <td>9.00</td>\n",
       "      <td>39.0</td>\n",
       "    </tr>\n",
       "    <tr>\n",
       "      <th>250</th>\n",
       "      <td>91.3</td>\n",
       "      <td>82.00</td>\n",
       "      <td>9.00</td>\n",
       "      <td>39.0</td>\n",
       "    </tr>\n",
       "    <tr>\n",
       "      <th>251</th>\n",
       "      <td>95.0</td>\n",
       "      <td>90.00</td>\n",
       "      <td>9.04</td>\n",
       "      <td>7.0</td>\n",
       "    </tr>\n",
       "    <tr>\n",
       "      <th>252</th>\n",
       "      <td>91.3</td>\n",
       "      <td>82.00</td>\n",
       "      <td>9.00</td>\n",
       "      <td>39.0</td>\n",
       "    </tr>\n",
       "  </tbody>\n",
       "</table>\n",
       "<p>253 rows × 4 columns</p>\n",
       "</div>"
      ],
      "text/plain": [
       "     10th   12th  College  Amcat\n",
       "0    92.0  82.00     9.50   87.0\n",
       "1    91.3  82.00     9.00   39.0\n",
       "2    92.0  86.00     9.00   51.0\n",
       "3    91.0  84.00     9.80   64.0\n",
       "4    84.5  82.00     9.41    0.0\n",
       "..    ...    ...      ...    ...\n",
       "248  92.8  74.92     8.90    0.0\n",
       "249  91.3  82.00     9.00   39.0\n",
       "250  91.3  82.00     9.00   39.0\n",
       "251  95.0  90.00     9.04    7.0\n",
       "252  91.3  82.00     9.00   39.0\n",
       "\n",
       "[253 rows x 4 columns]"
      ]
     },
     "execution_count": 42,
     "metadata": {},
     "output_type": "execute_result"
    }
   ],
   "source": [
    "X_train"
   ]
  },
  {
   "cell_type": "code",
   "execution_count": 43,
   "id": "e4c1aaa9",
   "metadata": {},
   "outputs": [
    {
     "data": {
      "text/html": [
       "<style>#sk-container-id-1 {color: black;background-color: white;}#sk-container-id-1 pre{padding: 0;}#sk-container-id-1 div.sk-toggleable {background-color: white;}#sk-container-id-1 label.sk-toggleable__label {cursor: pointer;display: block;width: 100%;margin-bottom: 0;padding: 0.3em;box-sizing: border-box;text-align: center;}#sk-container-id-1 label.sk-toggleable__label-arrow:before {content: \"▸\";float: left;margin-right: 0.25em;color: #696969;}#sk-container-id-1 label.sk-toggleable__label-arrow:hover:before {color: black;}#sk-container-id-1 div.sk-estimator:hover label.sk-toggleable__label-arrow:before {color: black;}#sk-container-id-1 div.sk-toggleable__content {max-height: 0;max-width: 0;overflow: hidden;text-align: left;background-color: #f0f8ff;}#sk-container-id-1 div.sk-toggleable__content pre {margin: 0.2em;color: black;border-radius: 0.25em;background-color: #f0f8ff;}#sk-container-id-1 input.sk-toggleable__control:checked~div.sk-toggleable__content {max-height: 200px;max-width: 100%;overflow: auto;}#sk-container-id-1 input.sk-toggleable__control:checked~label.sk-toggleable__label-arrow:before {content: \"▾\";}#sk-container-id-1 div.sk-estimator input.sk-toggleable__control:checked~label.sk-toggleable__label {background-color: #d4ebff;}#sk-container-id-1 div.sk-label input.sk-toggleable__control:checked~label.sk-toggleable__label {background-color: #d4ebff;}#sk-container-id-1 input.sk-hidden--visually {border: 0;clip: rect(1px 1px 1px 1px);clip: rect(1px, 1px, 1px, 1px);height: 1px;margin: -1px;overflow: hidden;padding: 0;position: absolute;width: 1px;}#sk-container-id-1 div.sk-estimator {font-family: monospace;background-color: #f0f8ff;border: 1px dotted black;border-radius: 0.25em;box-sizing: border-box;margin-bottom: 0.5em;}#sk-container-id-1 div.sk-estimator:hover {background-color: #d4ebff;}#sk-container-id-1 div.sk-parallel-item::after {content: \"\";width: 100%;border-bottom: 1px solid gray;flex-grow: 1;}#sk-container-id-1 div.sk-label:hover label.sk-toggleable__label {background-color: #d4ebff;}#sk-container-id-1 div.sk-serial::before {content: \"\";position: absolute;border-left: 1px solid gray;box-sizing: border-box;top: 0;bottom: 0;left: 50%;z-index: 0;}#sk-container-id-1 div.sk-serial {display: flex;flex-direction: column;align-items: center;background-color: white;padding-right: 0.2em;padding-left: 0.2em;position: relative;}#sk-container-id-1 div.sk-item {position: relative;z-index: 1;}#sk-container-id-1 div.sk-parallel {display: flex;align-items: stretch;justify-content: center;background-color: white;position: relative;}#sk-container-id-1 div.sk-item::before, #sk-container-id-1 div.sk-parallel-item::before {content: \"\";position: absolute;border-left: 1px solid gray;box-sizing: border-box;top: 0;bottom: 0;left: 50%;z-index: -1;}#sk-container-id-1 div.sk-parallel-item {display: flex;flex-direction: column;z-index: 1;position: relative;background-color: white;}#sk-container-id-1 div.sk-parallel-item:first-child::after {align-self: flex-end;width: 50%;}#sk-container-id-1 div.sk-parallel-item:last-child::after {align-self: flex-start;width: 50%;}#sk-container-id-1 div.sk-parallel-item:only-child::after {width: 0;}#sk-container-id-1 div.sk-dashed-wrapped {border: 1px dashed gray;margin: 0 0.4em 0.5em 0.4em;box-sizing: border-box;padding-bottom: 0.4em;background-color: white;}#sk-container-id-1 div.sk-label label {font-family: monospace;font-weight: bold;display: inline-block;line-height: 1.2em;}#sk-container-id-1 div.sk-label-container {text-align: center;}#sk-container-id-1 div.sk-container {/* jupyter's `normalize.less` sets `[hidden] { display: none; }` but bootstrap.min.css set `[hidden] { display: none !important; }` so we also need the `!important` here to be able to override the default hidden behavior on the sphinx rendered scikit-learn.org. See: https://github.com/scikit-learn/scikit-learn/issues/21755 */display: inline-block !important;position: relative;}#sk-container-id-1 div.sk-text-repr-fallback {display: none;}</style><div id=\"sk-container-id-1\" class=\"sk-top-container\"><div class=\"sk-text-repr-fallback\"><pre>LogisticRegression()</pre><b>In a Jupyter environment, please rerun this cell to show the HTML representation or trust the notebook. <br />On GitHub, the HTML representation is unable to render, please try loading this page with nbviewer.org.</b></div><div class=\"sk-container\" hidden><div class=\"sk-item\"><div class=\"sk-estimator sk-toggleable\"><input class=\"sk-toggleable__control sk-hidden--visually\" id=\"sk-estimator-id-1\" type=\"checkbox\" checked><label for=\"sk-estimator-id-1\" class=\"sk-toggleable__label sk-toggleable__label-arrow\">LogisticRegression</label><div class=\"sk-toggleable__content\"><pre>LogisticRegression()</pre></div></div></div></div></div>"
      ],
      "text/plain": [
       "LogisticRegression()"
      ]
     },
     "execution_count": 43,
     "metadata": {},
     "output_type": "execute_result"
    }
   ],
   "source": [
    "#Train the Model\n",
    "lmodel = LogisticRegression()\n",
    "lmodel.fit(X_train, y_train)"
   ]
  },
  {
   "cell_type": "code",
   "execution_count": 44,
   "id": "5a9cf2fc",
   "metadata": {},
   "outputs": [
    {
     "data": {
      "text/plain": [
       "0.7786561264822134"
      ]
     },
     "execution_count": 44,
     "metadata": {},
     "output_type": "execute_result"
    }
   ],
   "source": [
    "lmodel.score(X_train, y_train)"
   ]
  },
  {
   "cell_type": "code",
   "execution_count": 45,
   "id": "a546a84b",
   "metadata": {},
   "outputs": [
    {
     "name": "stdout",
     "output_type": "stream",
     "text": [
      "[1 1 1 1 1 1 1 1 1 1 1 1 1 1 1 1 1 1 1 1 1 1 1 1 1 1 1 1 1 1 1 1 1 1 1 1 1\n",
      " 1 1 1 1 1 1 1 1 1 1 1 1 1 1 1 0 1 1 1 1 1 1 1 1 1 1 0 1 1 1 1 1 1 1 1 1]\n"
     ]
    }
   ],
   "source": [
    "predictions = lmodel.predict(X_test)\n",
    "print(predictions)"
   ]
  },
  {
   "cell_type": "code",
   "execution_count": 46,
   "id": "7377efd9",
   "metadata": {},
   "outputs": [
    {
     "data": {
      "text/plain": [
       "array([[0.40314129, 0.59685871],\n",
       "       [0.19931151, 0.80068849],\n",
       "       [0.19931151, 0.80068849],\n",
       "       [0.19931151, 0.80068849],\n",
       "       [0.12813205, 0.87186795],\n",
       "       [0.19931151, 0.80068849],\n",
       "       [0.19931151, 0.80068849],\n",
       "       [0.20689413, 0.79310587],\n",
       "       [0.10920333, 0.89079667],\n",
       "       [0.22651552, 0.77348448],\n",
       "       [0.19931151, 0.80068849],\n",
       "       [0.17031926, 0.82968074],\n",
       "       [0.20065738, 0.79934262],\n",
       "       [0.14331121, 0.85668879],\n",
       "       [0.1248717 , 0.8751283 ],\n",
       "       [0.19931151, 0.80068849],\n",
       "       [0.19931151, 0.80068849],\n",
       "       [0.14812241, 0.85187759],\n",
       "       [0.34067251, 0.65932749],\n",
       "       [0.19931151, 0.80068849],\n",
       "       [0.121782  , 0.878218  ],\n",
       "       [0.11619789, 0.88380211],\n",
       "       [0.27516642, 0.72483358],\n",
       "       [0.15200754, 0.84799246],\n",
       "       [0.19931151, 0.80068849],\n",
       "       [0.1737265 , 0.8262735 ],\n",
       "       [0.19931151, 0.80068849],\n",
       "       [0.2078247 , 0.7921753 ],\n",
       "       [0.19931151, 0.80068849],\n",
       "       [0.09045231, 0.90954769],\n",
       "       [0.07640055, 0.92359945],\n",
       "       [0.19918346, 0.80081654],\n",
       "       [0.21457936, 0.78542064],\n",
       "       [0.2780703 , 0.7219297 ],\n",
       "       [0.19931151, 0.80068849],\n",
       "       [0.18406083, 0.81593917],\n",
       "       [0.19931151, 0.80068849],\n",
       "       [0.1266377 , 0.8733623 ],\n",
       "       [0.13592529, 0.86407471],\n",
       "       [0.19279175, 0.80720825],\n",
       "       [0.19931151, 0.80068849],\n",
       "       [0.25624026, 0.74375974],\n",
       "       [0.2839658 , 0.7160342 ],\n",
       "       [0.08962072, 0.91037928],\n",
       "       [0.19931151, 0.80068849],\n",
       "       [0.19931151, 0.80068849],\n",
       "       [0.33917721, 0.66082279],\n",
       "       [0.11243046, 0.88756954],\n",
       "       [0.10595289, 0.89404711],\n",
       "       [0.19931151, 0.80068849],\n",
       "       [0.19931151, 0.80068849],\n",
       "       [0.12350915, 0.87649085],\n",
       "       [0.67441446, 0.32558554],\n",
       "       [0.45676007, 0.54323993],\n",
       "       [0.19931151, 0.80068849],\n",
       "       [0.19931151, 0.80068849],\n",
       "       [0.12491745, 0.87508255],\n",
       "       [0.26452458, 0.73547542],\n",
       "       [0.35194551, 0.64805449],\n",
       "       [0.30466169, 0.69533831],\n",
       "       [0.19931151, 0.80068849],\n",
       "       [0.476737  , 0.523263  ],\n",
       "       [0.19931151, 0.80068849],\n",
       "       [0.52628479, 0.47371521],\n",
       "       [0.35086628, 0.64913372],\n",
       "       [0.19931151, 0.80068849],\n",
       "       [0.19931151, 0.80068849],\n",
       "       [0.19931151, 0.80068849],\n",
       "       [0.32682274, 0.67317726],\n",
       "       [0.19931151, 0.80068849],\n",
       "       [0.19931151, 0.80068849],\n",
       "       [0.18836543, 0.81163457],\n",
       "       [0.19931151, 0.80068849]])"
      ]
     },
     "execution_count": 46,
     "metadata": {},
     "output_type": "execute_result"
    }
   ],
   "source": [
    "lmodel.predict_proba(X_test)"
   ]
  },
  {
   "cell_type": "code",
   "execution_count": 47,
   "id": "b43284ef",
   "metadata": {},
   "outputs": [
    {
     "name": "stdout",
     "output_type": "stream",
     "text": [
      "Confusion Matrix:\n",
      "[[ 1 11]\n",
      " [ 1 60]]\n",
      "Accuracy: 0.8356164383561644\n",
      "\n",
      "Logistic Regression Metrics:\n",
      "Precision: 0.8450704225352113\n",
      "Recall: 0.9836065573770492\n",
      "F1 Score: 0.9090909090909091\n",
      "Score:  0.8356164383561644\n"
     ]
    }
   ],
   "source": [
    "# Make predictions on the test set\n",
    "y_test_pred_logistic = lmodel.predict(X_test)\n",
    "\n",
    "# Calculate confusion matrix, accuracy, precision, recall, and f1 score\n",
    "conf_matrix = confusion_matrix(y_test, y_test_pred_logistic)\n",
    "accuracy = accuracy_score(y_test, y_test_pred_logistic)\n",
    "\n",
    "print(\"Confusion Matrix:\")\n",
    "print(conf_matrix)\n",
    "\n",
    "print(f'Accuracy: {accuracy}')\n",
    "# Calculate precision, recall, and F1 score for Logistic Regression\n",
    "precision_logistic = precision_score(y_test, y_test_pred_logistic, average='binary')\n",
    "recall_logistic = recall_score(y_test, y_test_pred_logistic, average='binary')\n",
    "f1_logistic = f1_score(y_test, y_test_pred_logistic, average='binary')\n",
    "\n",
    "print(\"\\nLogistic Regression Metrics:\")\n",
    "print(f'Precision: {precision_logistic}')\n",
    "print(f'Recall: {recall_logistic}')\n",
    "print(f'F1 Score: {f1_logistic}')\n",
    "score =  lmodel.score(X_test, y_test)\n",
    "\n",
    "print(\"Score: \", score )"
   ]
  },
  {
   "cell_type": "markdown",
   "id": "d27c4bf4",
   "metadata": {},
   "source": [
    "# SVM"
   ]
  },
  {
   "cell_type": "code",
   "execution_count": 48,
   "id": "824f1471",
   "metadata": {},
   "outputs": [
    {
     "name": "stdout",
     "output_type": "stream",
     "text": [
      "[1 1 1 1 1 1 1 1 1 1 1 1 1 1 1 1 1 1 1 1 1 1 1 1 1 1 1 1 1 1 1 1 1 1 1 1 1\n",
      " 1 1 1 1 1 1 1 1 1 1 1 1 1 1 1 1 1 1 1 1 1 1 1 1 1 1 1 1 1 1 1 1 1 1 1 1]\n"
     ]
    }
   ],
   "source": [
    "# Train the SVM Model\n",
    "svm_model = SVC(kernel='linear', random_state=42)\n",
    "svm_model.fit(X_train, y_train)\n",
    "\n",
    "# Make predictions on the training set (for demonstration purposes)\n",
    "y_test_pred_svm = svm_model.predict(X_test)\n",
    "\n",
    "# Make predictions on the test set\n",
    "predictions = svm_model.predict(X_test)\n",
    "# Print the predictions\n",
    "print(predictions)"
   ]
  },
  {
   "cell_type": "code",
   "execution_count": 49,
   "id": "13919a56",
   "metadata": {},
   "outputs": [
    {
     "name": "stdout",
     "output_type": "stream",
     "text": [
      "\n",
      "SVM Metrics:\n",
      "Confusion Matrix:\n",
      "[[ 0 12]\n",
      " [ 0 61]]\n",
      "Score: 0.8356164383561644\n",
      "Precision: 0.8356164383561644\n",
      "Recall: 1.0\n",
      "F1 Score: 0.9104477611940298\n"
     ]
    }
   ],
   "source": [
    "\n",
    "# Calculate confusion matrix, accuracy, precision, recall, and f1 score for SVM\n",
    "conf_matrix_svm = confusion_matrix(y_test, y_test_pred_svm)\n",
    "\n",
    "print(\"\\nSVM Metrics:\")\n",
    "print(\"Confusion Matrix:\")\n",
    "print(conf_matrix_svm)\n",
    "\n",
    "precision_svm = precision_score(y_test, y_test_pred_svm, average='binary')\n",
    "recall_svm = recall_score(y_test, y_test_pred_svm, average='binary')\n",
    "f1_svm = f1_score(y_test, y_test_pred_svm, average='binary')\n",
    "score = svm_model.score(X_test, y_test)\n",
    "print(f'Score: {score}')\n",
    "print(f'Precision: {precision_svm}')\n",
    "print(f'Recall: {recall_svm}')\n",
    "print(f'F1 Score: {f1_svm}')"
   ]
  },
  {
   "cell_type": "code",
   "execution_count": 50,
   "id": "f8b274fc",
   "metadata": {},
   "outputs": [
    {
     "data": {
      "text/plain": [
       "Text(58.222222222222214, 0.5, 'Truth')"
      ]
     },
     "execution_count": 50,
     "metadata": {},
     "output_type": "execute_result"
    },
    {
     "data": {
      "image/png": "[encoded data removed]",
      "text/plain": [
       "<Figure size 700x500 with 2 Axes>"
      ]
     },
     "metadata": {},
     "output_type": "display_data"
    }
   ],
   "source": [
    "from matplotlib import pyplot as plt\n",
    "import seaborn as sns\n",
    "\n",
    "plt.figure(figsize=(7,5))\n",
    "sns.heatmap(conf_matrix_svm, annot=True)\n",
    "plt.xlabel(\"Predicted\")\n",
    "plt.ylabel(\"Truth\")"
   ]
  },
  {
   "cell_type": "code",
   "execution_count": 51,
   "id": "6585122f",
   "metadata": {},
   "outputs": [
    {
     "data": {
      "text/plain": [
       "61"
      ]
     },
     "execution_count": 51,
     "metadata": {},
     "output_type": "execute_result"
    }
   ],
   "source": [
    "notplaced = solution_df[solution_df[\"Placement\"] == 1]\n",
    "len(notplaced) #number of placed student"
   ]
  },
  {
   "cell_type": "code",
   "execution_count": 52,
   "id": "d59902cd",
   "metadata": {},
   "outputs": [
    {
     "data": {
      "text/plain": [
       "12"
      ]
     },
     "execution_count": 52,
     "metadata": {},
     "output_type": "execute_result"
    }
   ],
   "source": [
    "placed = solution_df[solution_df[\"Placement\"] == 0]\n",
    "len(placed) #number of non placed student"
   ]
  },
  {
   "cell_type": "markdown",
   "id": "4dfa99e3",
   "metadata": {},
   "source": [
    "# Decision Tree"
   ]
  },
  {
   "cell_type": "code",
   "execution_count": 53,
   "id": "30efe417",
   "metadata": {},
   "outputs": [
    {
     "name": "stdout",
     "output_type": "stream",
     "text": [
      "Training Accuracy: 0.8904109589041096\n",
      "[1 1 1 1 1 1 1 1 1 1 1 1 1 1 1 1 1 1 1 1 1 1 1 1 1 1 1 1 1 1 1 1 1 1 1 1 1\n",
      " 1 1 1 1 1 0 1 1 1 1 1 1 1 1 1 1 1 1 1 1 1 1 1 1 0 1 0 0 1 1 1 0 1 1 0 1]\n"
     ]
    }
   ],
   "source": [
    "dt_model = DecisionTreeClassifier(random_state=42)\n",
    "dt_model.fit(X_train, y_train)\n",
    "\n",
    "y_test_pred_dt = dt_model.predict(X_test)\n",
    "\n",
    "accuracy_train = accuracy_score(y_test, y_test_pred_dt)\n",
    "print(f'Training Accuracy: {accuracy_train}')\n",
    "\n",
    "predictions_dt = dt_model.predict(X_test)\n",
    "\n",
    "print(predictions_dt)"
   ]
  },
  {
   "cell_type": "code",
   "execution_count": 88,
   "id": "feb38911",
   "metadata": {},
   "outputs": [
    {
     "name": "stdout",
     "output_type": "stream",
     "text": [
      "Decision Tree Metrics:\n",
      "Confusion Matrix:\n",
      "[[ 5  7]\n",
      " [ 1 60]]\n",
      "Accuracy: 0.8904109589041096\n",
      "\n",
      "Decision Tree Metrics:\n",
      "Precision: 0.8955223880597015\n",
      "Recall: 0.9836065573770492\n"
     ]
    }
   ],
   "source": [
    "conf_matrix_dt = confusion_matrix(y_test, y_test_pred_dt)\n",
    "accuracy_dt = accuracy_score(y_test, y_test_pred_dt)\n",
    "\n",
    "print(\"Decision Tree Metrics:\")\n",
    "print(\"Confusion Matrix:\")\n",
    "print(conf_matrix_dt)\n",
    "print(f'Accuracy: {accuracy_dt}')\n",
    "\n",
    "# Calculate precision, recall, and F1 score for Decision Tree\n",
    "precision_dt = precision_score(y_test, y_test_pred_dt, average='binary')\n",
    "recall_dt = recall_score(y_test, y_test_pred_dt, average='binary')\n",
    "f1_dt = f1_score(y_test, y_test_pred_dt, average='binary')\n",
    "\n",
    "print(\"\\nDecision Tree Metrics:\")\n",
    "print(f'Precision: {precision_dt}')\n",
    "print(f'Recall: {recall_dt}')"
   ]
  },
  {
   "cell_type": "code",
   "execution_count": 55,
   "id": "3dfd56b1",
   "metadata": {},
   "outputs": [
    {
     "data": {
      "text/plain": [
       "Text(58.222222222222214, 0.5, 'Truth')"
      ]
     },
     "execution_count": 55,
     "metadata": {},
     "output_type": "execute_result"
    },
    {
     "data": {
      "image/png": "[encoded data removed]",
      "text/plain": [
       "<Figure size 700x500 with 2 Axes>"
      ]
     },
     "metadata": {},
     "output_type": "display_data"
    }
   ],
   "source": [
    "from matplotlib import pyplot as plt\n",
    "import seaborn as sns\n",
    "\n",
    "plt.figure(figsize=(7,5))\n",
    "sns.heatmap(conf_matrix_dt, annot=True)\n",
    "plt.xlabel(\"Predicted\")\n",
    "plt.ylabel(\"Truth\")"
   ]
  },
  {
   "cell_type": "markdown",
   "id": "86f090cd",
   "metadata": {},
   "source": [
    "# Random Forest"
   ]
  },
  {
   "cell_type": "code",
   "execution_count": 83,
   "id": "b74f6700",
   "metadata": {},
   "outputs": [
    {
     "name": "stdout",
     "output_type": "stream",
     "text": [
      "Training Accuracy: 0.857707509881423\n",
      "[1 1 1 1 1 1 1 1 1 1 1 1 1 1 1 1 1 1 1 1 1 1 1 1 1 1 1 1 1 1 1 1 1 1 1 1 1\n",
      " 1 1 1 1 1 1 1 1 1 1 1 1 1 1 1 1 1 1 1 1 1 1 1 1 0 1 0 0 1 1 1 0 1 1 0 1]\n"
     ]
    }
   ],
   "source": [
    "from sklearn.ensemble import RandomForestClassifier\n",
    "from sklearn.metrics import accuracy_score\n",
    "\n",
    "rf_model = RandomForestClassifier(n_estimators=100, random_state=42)\n",
    "rf_model.fit(X_train, y_train)\n",
    "\n",
    "y_train_pred = rf_model.predict(X_train)\n",
    "\n",
    "accuracy_train = accuracy_score(y_train, y_train_pred)\n",
    "print(f'Training Accuracy: {accuracy_train}')\n",
    "# Make predictions on the test set\n",
    "predictions = rf_model.predict(X_test)\n",
    "\n",
    "print(predictions)\n"
   ]
  },
  {
   "cell_type": "code",
   "execution_count": 57,
   "id": "736da318",
   "metadata": {},
   "outputs": [
    {
     "name": "stdout",
     "output_type": "stream",
     "text": [
      "Confusion Matrix:\n",
      "[[ 5  7]\n",
      " [ 0 61]]\n",
      "Accuracy: 0.9041095890410958\n",
      "\n",
      "Random Forest Metrics:\n",
      "Precision: 0.8970588235294118\n",
      "Recall: 1.0\n",
      "F1 Score: 0.9457364341085273\n"
     ]
    }
   ],
   "source": [
    "# Make predictions on the test set\n",
    "y_test_pred = rf_model.predict(X_test)\n",
    "\n",
    "# Calculate confusion matrix, accuracy, precision, recall, and f1 score\n",
    "conf_matrix = confusion_matrix(y_test, y_test_pred)\n",
    "accuracy = accuracy_score(y_test, y_test_pred)\n",
    "\n",
    "print(\"Confusion Matrix:\")\n",
    "print(conf_matrix)\n",
    "\n",
    "print(f'Accuracy: {accuracy}')\n",
    "\n",
    "# Make predictions on the test set\n",
    "y_test_pred = rf_model.predict(X_test)\n",
    "\n",
    "# Assuming 'Placement' is the target column\n",
    "y_test = solution_df['Placement']\n",
    "\n",
    "precision_rf = precision_score(y_test, y_test_pred, average='binary')\n",
    "recall_rf = recall_score(y_test, y_test_pred, average='binary')\n",
    "f1_rf = f1_score(y_test, y_test_pred, average='binary')\n",
    "\n",
    "print(\"\\nRandom Forest Metrics:\")\n",
    "print(f'Precision: {precision_rf}')\n",
    "print(f'Recall: {recall_rf}')\n",
    "print(f'F1 Score: {f1_rf}')"
   ]
  },
  {
   "cell_type": "markdown",
   "id": "3c8b13ec",
   "metadata": {},
   "source": [
    "# Save Random Forest Model To Predictions.csv File"
   ]
  },
  {
   "cell_type": "code",
   "execution_count": 58,
   "id": "78af85bd",
   "metadata": {},
   "outputs": [],
   "source": [
    "# Make predictions on the test set\n",
    "predictions = rf_model.predict(X_test)\n",
    "# Create a DataFrame with 'Studid' and 'Predicted_Labels' columns\n",
    "results_df = pd.DataFrame({'Studid': test_df['Studid'], 'Predicted_Labels': predictions})\n",
    "\n",
    "# Save results to a CSV file\n",
    "results_df.to_csv('predictions.csv', index=False)"
   ]
  },
  {
   "cell_type": "code",
   "execution_count": 59,
   "id": "bb6bdfb3",
   "metadata": {},
   "outputs": [
    {
     "data": {
      "text/plain": [
       "Text(58.222222222222214, 0.5, 'Truth')"
      ]
     },
     "execution_count": 59,
     "metadata": {},
     "output_type": "execute_result"
    },
    {
     "data": {
      "image/png": "[encoded data removed]",
      "text/plain": [
       "<Figure size 700x500 with 2 Axes>"
      ]
     },
     "metadata": {},
     "output_type": "display_data"
    }
   ],
   "source": [
    "from matplotlib import pyplot as plt\n",
    "import seaborn as sns\n",
    "\n",
    "plt.figure(figsize=(7,5))\n",
    "sns.heatmap(conf_matrix, annot=True)\n",
    "plt.xlabel(\"Predicted\")\n",
    "plt.ylabel(\"Truth\")"
   ]
  },
  {
   "cell_type": "code",
   "execution_count": 60,
   "id": "4e7d62ac",
   "metadata": {},
   "outputs": [
    {
     "data": {
      "text/plain": [
       "12"
      ]
     },
     "execution_count": 60,
     "metadata": {},
     "output_type": "execute_result"
    }
   ],
   "source": [
    "placed = solution_df[solution_df[\"Placement\"] == 0]\n",
    "len(placed) #number of non placed student"
   ]
  },
  {
   "cell_type": "code",
   "execution_count": 68,
   "id": "359f107e",
   "metadata": {},
   "outputs": [
    {
     "data": {
      "text/plain": [
       "61"
      ]
     },
     "execution_count": 68,
     "metadata": {},
     "output_type": "execute_result"
    }
   ],
   "source": [
    "notplaced = solution_df[solution_df[\"Placement\"] == 1]\n",
    "len(notplaced) #number of placed student"
   ]
  },
  {
   "cell_type": "code",
   "execution_count": 62,
   "id": "fc09fcc7",
   "metadata": {
    "scrolled": true
   },
   "outputs": [
    {
     "data": {
      "text/plain": [
       "array([[0.1       , 0.9       ],\n",
       "       [0.03194915, 0.96805085],\n",
       "       [0.03194915, 0.96805085],\n",
       "       [0.03194915, 0.96805085],\n",
       "       [0.05      , 0.95      ],\n",
       "       [0.03194915, 0.96805085],\n",
       "       [0.03194915, 0.96805085],\n",
       "       [0.01      , 0.99      ],\n",
       "       [0.11      , 0.89      ],\n",
       "       [0.08      , 0.92      ],\n",
       "       [0.03194915, 0.96805085],\n",
       "       [0.04      , 0.96      ],\n",
       "       [0.06      , 0.94      ],\n",
       "       [0.02275591, 0.97724409],\n",
       "       [0.        , 1.        ],\n",
       "       [0.03194915, 0.96805085],\n",
       "       [0.03194915, 0.96805085],\n",
       "       [0.        , 1.        ],\n",
       "       [0.26      , 0.74      ],\n",
       "       [0.03194915, 0.96805085],\n",
       "       [0.03      , 0.97      ],\n",
       "       [0.        , 1.        ],\n",
       "       [0.11300255, 0.88699745],\n",
       "       [0.1       , 0.9       ],\n",
       "       [0.03194915, 0.96805085],\n",
       "       [0.12      , 0.88      ],\n",
       "       [0.03194915, 0.96805085],\n",
       "       [0.02415285, 0.97584715],\n",
       "       [0.03194915, 0.96805085],\n",
       "       [0.07      , 0.93      ],\n",
       "       [0.03      , 0.97      ],\n",
       "       [0.07      , 0.93      ],\n",
       "       [0.12      , 0.88      ],\n",
       "       [0.02      , 0.98      ],\n",
       "       [0.03194915, 0.96805085],\n",
       "       [0.08097983, 0.91902017],\n",
       "       [0.03194915, 0.96805085],\n",
       "       [0.        , 1.        ],\n",
       "       [0.        , 1.        ],\n",
       "       [0.07      , 0.93      ],\n",
       "       [0.03194915, 0.96805085],\n",
       "       [0.05      , 0.95      ],\n",
       "       [0.11      , 0.89      ],\n",
       "       [0.        , 1.        ],\n",
       "       [0.03194915, 0.96805085],\n",
       "       [0.03194915, 0.96805085],\n",
       "       [0.2       , 0.8       ],\n",
       "       [0.        , 1.        ],\n",
       "       [0.05      , 0.95      ],\n",
       "       [0.03194915, 0.96805085],\n",
       "       [0.03194915, 0.96805085],\n",
       "       [0.        , 1.        ],\n",
       "       [0.15      , 0.85      ],\n",
       "       [0.13      , 0.87      ],\n",
       "       [0.03194915, 0.96805085],\n",
       "       [0.03194915, 0.96805085],\n",
       "       [0.01094354, 0.98905646],\n",
       "       [0.04      , 0.96      ],\n",
       "       [0.09      , 0.91      ],\n",
       "       [0.02      , 0.98      ],\n",
       "       [0.03194915, 0.96805085],\n",
       "       [0.88      , 0.12      ],\n",
       "       [0.03194915, 0.96805085],\n",
       "       [0.84      , 0.16      ],\n",
       "       [0.68      , 0.32      ],\n",
       "       [0.03194915, 0.96805085],\n",
       "       [0.03194915, 0.96805085],\n",
       "       [0.03194915, 0.96805085],\n",
       "       [0.66      , 0.34      ],\n",
       "       [0.03194915, 0.96805085],\n",
       "       [0.03194915, 0.96805085],\n",
       "       [0.55      , 0.45      ],\n",
       "       [0.03194915, 0.96805085]])"
      ]
     },
     "execution_count": 62,
     "metadata": {},
     "output_type": "execute_result"
    }
   ],
   "source": [
    "rf_model.predict_proba(X_test)"
   ]
  },
  {
   "cell_type": "markdown",
   "id": "13179e2e",
   "metadata": {},
   "source": [
    "# KNN"
   ]
  },
  {
   "cell_type": "code",
   "execution_count": 85,
   "id": "787a73eb",
   "metadata": {},
   "outputs": [
    {
     "name": "stdout",
     "output_type": "stream",
     "text": [
      "KNN Metrics:\n",
      "Confusion Matrix:\n",
      "[[ 0 12]\n",
      " [ 0 61]]\n",
      "Accuracy: 0.8356164383561644\n"
     ]
    }
   ],
   "source": [
    "# Train the KNN Model\n",
    "knn_model = KNeighborsClassifier(n_neighbors=5)\n",
    "knn_model.fit(X_train, y_train)\n",
    "\n",
    "# Make predictions on the test set\n",
    "y_test_pred_knn = knn_model.predict(X_test)\n",
    "\n",
    "# Assuming 'Placement' is the target column\n",
    "y_test_knn = solution_df['Placement']\n",
    "\n",
    "# Calculate confusion matrix, accuracy, precision, recall, and f1 score for KNN\n",
    "conf_matrix_knn = confusion_matrix(y_test, y_test_pred_knn)\n",
    "accuracy_knn = accuracy_score(y_test_knn, y_test_pred_knn)\n",
    "\n",
    "print(\"KNN Metrics:\")\n",
    "print(\"Confusion Matrix:\")\n",
    "print(conf_matrix_knn)\n",
    "print(f'Accuracy: {accuracy_knn}')\n",
    "\n",
    "# Calculate precision, recall, and F1 score for KNN\n",
    "precision_knn = precision_score(y_test_knn, y_test_pred_knn, average='binary')\n",
    "recall_knn = recall_score(y_test_knn, y_test_pred_knn, average='binary')\n",
    "f1_knn = f1_score(y_test_knn, y_test_pred_knn, average='binary')"
   ]
  },
  {
   "cell_type": "code",
   "execution_count": 81,
   "id": "496ed9fd",
   "metadata": {},
   "outputs": [
    {
     "data": {
      "text/plain": [
       "Text(58.222222222222214, 0.5, 'Truth')"
      ]
     },
     "execution_count": 81,
     "metadata": {},
     "output_type": "execute_result"
    },
    {
     "data": {
      "image/png": "[encoded data removed]",
      "text/plain": [
       "<Figure size 700x500 with 2 Axes>"
      ]
     },
     "metadata": {},
     "output_type": "display_data"
    }
   ],
   "source": [
    "from matplotlib import pyplot as plt\n",
    "import seaborn as sns\n",
    "\n",
    "plt.figure(figsize=(7,5))\n",
    "sns.heatmap(conf_matrix_knn, annot=True)\n",
    "plt.xlabel(\"Predicted\")\n",
    "plt.ylabel(\"Truth\")"
   ]
  },
  {
   "cell_type": "code",
   "execution_count": 82,
   "id": "5af3b9bc",
   "metadata": {},
   "outputs": [
    {
     "data": {
      "text/plain": [
       "array([1, 1, 1, 1, 1, 1, 1, 1, 1, 1, 1, 1, 1, 1, 1, 1, 1, 1, 1, 1, 1, 1,\n",
       "       1, 1, 1, 1, 1, 1, 1, 1, 1, 1, 1, 1, 1, 1, 1, 1, 1, 1, 1, 1, 1, 1,\n",
       "       1, 1, 1, 1, 1, 1, 1, 1, 1, 1, 1, 1, 1, 1, 1, 1, 1, 1, 1, 1, 1, 1,\n",
       "       1, 1, 1, 1, 1, 1, 1], dtype=int64)"
      ]
     },
     "execution_count": 82,
     "metadata": {},
     "output_type": "execute_result"
    }
   ],
   "source": [
    "knn_model.predict(X_test)"
   ]
  },
  {
   "cell_type": "markdown",
   "id": "57982e1c",
   "metadata": {},
   "source": [
    "# Ensemble Learning"
   ]
  },
  {
   "cell_type": "code",
   "execution_count": 67,
   "id": "372bee6d",
   "metadata": {},
   "outputs": [
    {
     "name": "stdout",
     "output_type": "stream",
     "text": [
      "Gradient Boosting Accuracy: 0.90\n"
     ]
    }
   ],
   "source": [
    "from sklearn.ensemble import GradientBoostingClassifier\n",
    "\n",
    "gradient_boosting_model = GradientBoostingClassifier(random_state=42)\n",
    "gradient_boosting_model.fit(X_train, y_train)\n",
    "y_pred_gb = gradient_boosting_model.predict(X_test)\n",
    "accuracy_gb = accuracy_score(y_test, y_pred_gb)\n",
    "print(f\"Gradient Boosting Accuracy: {accuracy_gb:.2f}\")"
   ]
  },
  {
   "cell_type": "code",
   "execution_count": 75,
   "id": "19155722",
   "metadata": {},
   "outputs": [
    {
     "name": "stdout",
     "output_type": "stream",
     "text": [
      "Voting Classifier Accuracy: 0.90\n"
     ]
    }
   ],
   "source": [
    "from sklearn.ensemble import VotingClassifier\n",
    "\n",
    "# Create a Voting Classifier with Random Forest, Gradient Boosting, Logistic Regression, and SVM\n",
    "voting_classifier = VotingClassifier(\n",
    "    estimators=[\n",
    "        ('random_forest', rf_model),\n",
    "        ('gradient_boosting', gradient_boosting_model),\n",
    "        ('Decision Tree', dt_model),\n",
    "    ],\n",
    "    voting='soft'  # 'soft' for probability voting\n",
    ")\n",
    "\n",
    "# Train the Voting Classifier on the training data\n",
    "voting_classifier.fit(X_train, y_train)\n",
    "\n",
    "# Make predictions on the testing set\n",
    "y_pred_voting = voting_classifier.predict(X_test)\n",
    "\n",
    "# Evaluate the Voting Classifier\n",
    "accuracy_voting = accuracy_score(y_test, y_pred_voting)\n",
    "print(f\"Voting Classifier Accuracy: {accuracy_voting:.2f}\")\n",
    "\n"
   ]
  },
  {
   "cell_type": "code",
   "execution_count": 86,
   "id": "514b380d",
   "metadata": {},
   "outputs": [
    {
     "data": {
      "text/plain": [
       "Text(58.222222222222214, 0.5, 'Truth')"
      ]
     },
     "execution_count": 86,
     "metadata": {},
     "output_type": "execute_result"
    },
    {
     "data": {
      "image/png": "[encoded data removed]",
      "text/plain": [
       "<Figure size 700x500 with 2 Axes>"
      ]
     },
     "metadata": {},
     "output_type": "display_data"
    }
   ],
   "source": [
    "from matplotlib import pyplot as plt\n",
    "import seaborn as sns\n",
    "\n",
    "# Calculate confusion matrix, accuracy, precision, recall, and f1 score for KNN\n",
    "conf_matrix_vote = confusion_matrix(y_test, y_pred_voting)\n",
    "\n",
    "plt.figure(figsize=(7,5))\n",
    "sns.heatmap(conf_matrix_vote, annot=True)\n",
    "plt.xlabel(\"Predicted\")\n",
    "plt.ylabel(\"Truth\")"
   ]
  },
  {
   "cell_type": "code",
   "execution_count": null,
   "id": "bbb6aeb2",
   "metadata": {},
   "outputs": [],
   "source": []
  }
 ],
 "metadata": {
  "kernelspec": {
   "display_name": "Python 3 (ipykernel)",
   "language": "python",
   "name": "python3"
  },
  "language_info": {
   "codemirror_mode": {
    "name": "ipython",
    "version": 3
   },
   "file_extension": ".py",
   "mimetype": "text/x-python",
   "name": "python",
   "nbconvert_exporter": "python",
   "pygments_lexer": "ipython3",
   "version": "3.11.3"
  }
 },
 "nbformat": 4,
 "nbformat_minor": 5
}
